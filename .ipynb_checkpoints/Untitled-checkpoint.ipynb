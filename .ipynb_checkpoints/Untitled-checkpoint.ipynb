{
 "cells": [
  {
   "cell_type": "code",
   "execution_count": null,
   "metadata": {},
   "outputs": [],
   "source": [
    "# GuessMyPassword.py is a quick revision application.\n",
    "\n",
    "import random\n",
    "\n",
    "# Initialise variables:\n",
    "response1 = \"I am afraid not. Please try again.\"\n",
    "response2 = \"That is a good password but not my password. Keep guessing.\"\n",
    "response3 = \"That is not my password. It really is easy to guess my password.\"\n",
    "response4 = \"Well done! You must work for MI6. Give my regards to James Bond.\"\n",
    "MY_PASSWORD = \"my password\"\n",
    "\n",
    "# Function to find out if the user has guessed correctly:\n",
    "def is_correct(guess, password):\n",
    "    if guess == password:\n",
    "        guess_correct = True\n",
    "    else:\n",
    "        guess_correct = False\n",
    "    return guess_correct\n",
    "\n",
    "# Start the game:\n",
    "print(\"Hello.\\n\")\n",
    "users_guess = input(\"See if you can guess my password? \")\n",
    "\n",
    "# Use our function:\n",
    "true_or_false = is_correct(users_guess, MY_PASSWORD)\n",
    "\n",
    "# Run the game until the user is correct:\n",
    "while true_or_false == False:\n",
    "    computer_response = random.randint(1, 3)\n",
    "    if computer_response == 1:\n",
    "        print(response1)\n",
    "    elif computer_response == 2:\n",
    "        print(response2)\n",
    "    else:\n",
    "        print(response3)\n",
    "\n",
    "    # Collect the user's next guess:\n",
    "    users_guess = input(\"\\nWhat is your next guess? \")\n",
    "\n",
    "    # Use our function again:\n",
    "    true_or_false = is_correct(users_guess, MY_PASSWORD)\n",
    "\n",
    "# End the game:\n",
    "print(response4)\n",
    "input(\"\\n\\n\\nPress RETURN to exit.\")\n"
   ]
  },
  {
   "cell_type": "code",
   "execution_count": 1,
   "metadata": {},
   "outputs": [],
   "source": [
    "class Cat:\n",
    "    def speak(self):\n",
    "        print(\"Meow!\")\n",
    "\n",
    "    def drink(self):\n",
    "        print(\"The cat drinks its milk.\")\n",
    "        print(\"The cat takes a nap.\")"
   ]
  },
  {
   "cell_type": "code",
   "execution_count": 4,
   "metadata": {},
   "outputs": [
    {
     "name": "stdout",
     "output_type": "stream",
     "text": [
      "Meow!\n",
      "The cat drinks its milk.\n",
      "The cat takes a nap.\n"
     ]
    }
   ],
   "source": [
    "\n",
    "#import cat\n",
    "\n",
    "# create an instance of a cat, named Romeo\n",
    "romeo = Cat()\n",
    "\n",
    "# play with Romeo\n",
    "romeo.speak()\n",
    "romeo.drink()"
   ]
  },
  {
   "cell_type": "code",
   "execution_count": 8,
   "metadata": {},
   "outputs": [],
   "source": [
    "# class 만들기\n",
    "class Cat:\n",
    "    def __init__(self, name):\n",
    "        self.name = name;\n",
    "        \n",
    "    def speak(self):\n",
    "        print(self.name, \"says mewo\");\n",
    "        \n",
    "    def drink(self):\n",
    "        print(self.name, \"drinks\");\n",
    "        print(self.name, \"takes a nap\");"
   ]
  },
  {
   "cell_type": "code",
   "execution_count": 9,
   "metadata": {},
   "outputs": [
    {
     "name": "stdout",
     "output_type": "stream",
     "text": [
      "iphone says mewo\n",
      "gala says mewo\n",
      "iphone drinks\n",
      "iphone takes a nap\n",
      "gala says mewo\n"
     ]
    }
   ],
   "source": [
    "ro = Cat(\"iphone\");\n",
    "la = Cat(\"gala\");\n",
    "\n",
    "ro.speak();\n",
    "la.speak();\n",
    "ro.drink();\n",
    "la.speak();"
   ]
  },
  {
   "cell_type": "code",
   "execution_count": 10,
   "metadata": {},
   "outputs": [],
   "source": [
    "class lift:\n",
    "    def __init__(self, curr = 0):\n",
    "        self.curr = curr\n",
    "    def get_floor(self):\n",
    "        return self.curr;\n",
    "    def move(self, number):\n",
    "        self.curr = number;"
   ]
  },
  {
   "cell_type": "code",
   "execution_count": 11,
   "metadata": {},
   "outputs": [
    {
     "name": "stdout",
     "output_type": "stream",
     "text": [
      "now 0\n",
      "no2 10\n"
     ]
    }
   ],
   "source": [
    "my_ele = lift();\n",
    "floor = my_ele.get_floor();\n",
    "print(\"now\", floor);\n",
    "my_ele.move(10);\n",
    "floor = my_ele.get_floor();\n",
    "print(\"no2\", floor)"
   ]
  },
  {
   "cell_type": "code",
   "execution_count": null,
   "metadata": {},
   "outputs": [],
   "source": [
    "# 핑퐁 만들기"
   ]
  },
  {
   "cell_type": "code",
   "execution_count": 12,
   "metadata": {},
   "outputs": [],
   "source": [
    "from tkinter import *\n",
    "class Table:\n",
    "    def __init__(self, window, colour = \"black\", net_colour = \"green\",\n",
    "                width = 600, height = 400, vertical_net = False, horizontal_net = False):\n",
    "        self.width = width\n",
    "        self.height = height\n",
    "        self.colour = colour;\n",
    "        self.canvas = Canvas(window, bg = self.colour, height = self.height,\n",
    "                            width = self.width)\n",
    "        self.canvas.pack() # 얘는 뭐지?\n",
    "        # This geometry manager organizes widgets \n",
    "        #in blocks before placing them in the parent widget.\n",
    "        # https://www.python-course.eu/tkinter_canvas.php\n",
    "        # https://www.tutorialspoint.com/python/tk_pack.htm\n",
    "        if(vertical_net):\n",
    "            self.canvas.create_line(self.width/2, 0, self.width/2, self.height, width=2, \n",
    "                                    fill = net_colour, dash = (15,23))\n",
    "        if(horizontal_net):\n",
    "            self.canvas.create_line(0, self.height/2, self.width, self.height/2, width=2, \n",
    "                                   fill = net_colour, dash=(15,23))"
   ]
  },
  {
   "cell_type": "code",
   "execution_count": 14,
   "metadata": {},
   "outputs": [],
   "source": [
    "window = Tk();\n",
    "window.title(\"text\")\n",
    "my_table = Table(window, net_colour=\"green\", vertical_net=True)\n",
    "window.mainloop()"
   ]
  },
  {
   "cell_type": "code",
   "execution_count": 18,
   "metadata": {},
   "outputs": [],
   "source": [
    "window = Tk();\n",
    "window.title(\"test\")\n",
    "ca = Canvas(window, bg = \"green\", height = 400, width = 600);\n",
    "ca.pack(); # 캔버스를 적용시키네, 백그라운드와 같은 역할인듯\n",
    "ca.create_line(300,0,400,1, fill = \"red\")\n",
    "window.mainloop()"
   ]
  }
 ],
 "metadata": {
  "kernelspec": {
   "display_name": "Python 3",
   "language": "python",
   "name": "python3"
  },
  "language_info": {
   "codemirror_mode": {
    "name": "ipython",
    "version": 3
   },
   "file_extension": ".py",
   "mimetype": "text/x-python",
   "name": "python",
   "nbconvert_exporter": "python",
   "pygments_lexer": "ipython3",
   "version": "3.6.5"
  }
 },
 "nbformat": 4,
 "nbformat_minor": 2
}
