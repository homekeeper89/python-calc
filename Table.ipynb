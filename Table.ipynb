{
 "cells": [
  {
   "cell_type": "code",
   "execution_count": null,
   "metadata": {},
   "outputs": [],
   "source": [
    "# This is the Table class originally created for MyPong.\n",
    "# This class defines a Table that is a 2D rectangle that is a play area.\n",
    "\n",
    "from tkinter import *\n",
    "\n",
    "class Table:\n",
    "    #### constructor\n",
    "    def __init__(self, window, colour=\"black\", net_colour=\"green\",\n",
    "                 width=600, height=400, vertical_net=False, horizontal_net=False):\n",
    "        self.width = width\n",
    "        self.height = height\n",
    "        self.colour = colour\n",
    "        \n",
    "        # order a canvas to draw on from tkinter's Canvas class:\n",
    "        self.canvas = Canvas(window, bg=self.colour, height=self.height, width=self.width)\n",
    "        self.canvas.pack()\n",
    "\n",
    "        # add a net to the canvas using its create_line method:\n",
    "        if(vertical_net):\n",
    "            self.canvas.create_line(self.width/2, 0, self.width/2, self.height, width=2, fill=net_colour, dash=(15, 23))\n",
    "        if(horizontal_net):\n",
    "            self.canvas.create_line(0, self.height/2, self.width, self.height/2, width=2, fill=net_colour, dash=(15, 23))\n",
    "\n",
    "    #### methods\n",
    "    # extra tool for adding a rectangle to the canvas\n",
    "    def draw_rectangle(self, rectangle):\n",
    "        x1 = rectangle.x_posn\n",
    "        x2 = rectangle.x_posn + rectangle.width\n",
    "        y1 = rectangle.y_posn\n",
    "        y2 = rectangle.y_posn + rectangle.height\n",
    "        c = rectangle.colour\n",
    "        return self.canvas.create_rectangle(x1, y1, x2, y2, fill=c)\n",
    "\n",
    "    # extra tool for adding an oval to the canvas\n",
    "    def draw_oval(self, oval):\n",
    "        x1 = oval.x_posn\n",
    "        x2 = oval.x_posn + oval.width\n",
    "        y1 = oval.y_posn\n",
    "        y2 = oval.y_posn + oval.height\n",
    "        c = oval.colour\n",
    "        return self.canvas.create_oval(x1, y1, x2, y2, fill=c)\n",
    "    \n",
    "    # extra tools for manipulating items on the canvas:\n",
    "    def move_item(self, item, x1, y1, x2, y2):\n",
    "        self.canvas.coords(item, x1, y1, x2, y2)\n",
    "    \n",
    "    def remove_item(self, item):\n",
    "        self.canvas.delete(item)\n",
    "\n",
    "    def change_item_colour(self, item, c):\n",
    "        self.canvas.itemconfigure(item, fill=c)\n"
   ]
  }
 ],
 "metadata": {
  "kernelspec": {
   "display_name": "Python 3",
   "language": "python",
   "name": "python3"
  },
  "language_info": {
   "codemirror_mode": {
    "name": "ipython",
    "version": 3
   },
   "file_extension": ".py",
   "mimetype": "text/x-python",
   "name": "python",
   "nbconvert_exporter": "python",
   "pygments_lexer": "ipython3",
   "version": "3.6.5"
  }
 },
 "nbformat": 4,
 "nbformat_minor": 2
}
