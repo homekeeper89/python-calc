{
 "cells": [
  {
   "cell_type": "code",
   "execution_count": 4,
   "metadata": {},
   "outputs": [],
   "source": [
    "# This is the main file for MyPong.\n",
    "\n",
    "from tkinter import *\n",
    "\n",
    "# initialise global variables\n",
    "x_velocity = 10\n",
    "y_velocity = 10\n",
    "\n",
    "# order a window from the tkinter window factory\n",
    "window = Tk()\n",
    "window.title(\"MyPong\")\n",
    "       \n",
    "# order a table from the table class\n",
    "my_table = Table(window, net_colour=\"green\", vertical_net=True)\n",
    "\n",
    "# order a ball from the ball factory\n",
    "my_ball = Ball(table=my_table, x_speed=x_velocity, y_speed=y_velocity,\n",
    "                    width=24, height=24, colour=\"red\", x_start=288, y_start=188)\n",
    "\n",
    "# order a left and right bat from the bat class\n",
    "bat_L = Bat(table=my_table, width=15, height=100, x_posn=20, y_posn=150, colour=\"blue\")\n",
    "bat_R = Bat(table=my_table, width=15, height=100, x_posn=575, y_posn=150, colour=\"yellow\")\n",
    "\n",
    "\n",
    "#### functions:\n",
    "def game_flow():\n",
    "    # detect if ball has hit the bats:\n",
    "    bat_L.detect_collision(my_ball)\n",
    "    bat_R.detect_collision(my_ball)\n",
    "    \n",
    "    my_ball.move_next()\n",
    "    window.after(500, game_flow)\n",
    "\n",
    "# bind the controls of the bats to keys on the keyboard\n",
    "window.bind(\"a\", bat_L.move_up)\n",
    "window.bind(\"z\", bat_L.move_down)\n",
    "window.bind(\"<Up>\", bat_R.move_up)\n",
    "window.bind(\"<Down>\", bat_R.move_down)\n",
    "\n",
    "# call the game_flow loop\n",
    "game_flow()\n",
    "\n",
    "# start the tkinter loop process\n",
    "window.mainloop()\n"
   ]
  }
 ],
 "metadata": {
  "kernelspec": {
   "display_name": "Python 3",
   "language": "python",
   "name": "python3"
  },
  "language_info": {
   "codemirror_mode": {
    "name": "ipython",
    "version": 3
   },
   "file_extension": ".py",
   "mimetype": "text/x-python",
   "name": "python",
   "nbconvert_exporter": "python",
   "pygments_lexer": "ipython3",
   "version": "3.6.5"
  }
 },
 "nbformat": 4,
 "nbformat_minor": 2
}
